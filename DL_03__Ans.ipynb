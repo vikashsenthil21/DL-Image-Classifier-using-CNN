{
  "nbformat": 4,
  "nbformat_minor": 0,
  "metadata": {
    "colab": {
      "provenance": [],
      "gpuType": "T4"
    },
    "kernelspec": {
      "name": "python3",
      "display_name": "Python 3"
    },
    "language_info": {
      "name": "python"
    },
    "accelerator": "GPU"
  },
  "cells": [
    {
      "cell_type": "markdown",
      "metadata": {
        "id": "view-in-github"
      },
      "source": [
        "<a href=\"https://colab.research.google.com/github/LATHIKESHWARAN/DL-Image-Classifier-using-CNN/blob/main/DL_03.ipynb\" target=\"_parent\"><img src=\"https://colab.research.google.com/assets/colab-badge.svg\" alt=\"Open In Colab\"/></a>"
      ]
    },
    {
      "cell_type": "code",
      "execution_count": 18,
      "metadata": {
        "id": "Dwy4JH85p-hE"
      },
      "outputs": [],
      "source": [
        "import torch\n",
        "import torch.nn as nn\n",
        "import torch.nn.functional as F\n",
        "from torch.utils.data import DataLoader\n",
        "from torchvision import datasets, transforms\n",
        "from torchvision.utils import make_grid\n",
        "\n",
        "import numpy as np\n",
        "import pandas as pd\n",
        "from sklearn.metrics import confusion_matrix\n",
        "import matplotlib.pyplot as plt"
      ]
    },
    {
      "cell_type": "code",
      "source": [
        "transform = transforms.ToTensor()"
      ],
      "metadata": {
        "id": "zHgNmzcbVTFm"
      },
      "execution_count": null,
      "outputs": []
    },
    {
      "cell_type": "markdown",
      "source": [
        "Name : vikash\n",
        "\n",
        "reg no: 212222240115"
      ],
      "metadata": {
        "id": "EI8q8p0ZfDl6"
      }
    },
    {
      "cell_type": "code",
      "source": [
        "train_data = datasets.MNIST(root='../Data', train=True, download=True, transform=transform)"
      ],
      "metadata": {
        "colab": {
          "base_uri": "https://localhost:8080/"
        },
        "id": "-GNfahnrVjj3",
        "outputId": "b8a7adb0-1880-42d2-d088-72e05f29f6b4"
      },
      "execution_count": null,
      "outputs": [
        {
          "output_type": "stream",
          "name": "stderr",
          "text": [
            "100%|██████████| 9.91M/9.91M [00:00<00:00, 17.7MB/s]\n",
            "100%|██████████| 28.9k/28.9k [00:00<00:00, 477kB/s]\n",
            "100%|██████████| 1.65M/1.65M [00:00<00:00, 4.48MB/s]\n",
            "100%|██████████| 4.54k/4.54k [00:00<00:00, 3.29MB/s]\n"
          ]
        }
      ]
    },
    {
      "cell_type": "code",
      "source": [
        "test_data = datasets.MNIST(root='../Data', train=False, download=True, transform=transform)"
      ],
      "metadata": {
        "id": "KQdCYr_aVmcy"
      },
      "execution_count": null,
      "outputs": []
    },
    {
      "cell_type": "code",
      "source": [
        "train_loader = DataLoader(train_data, batch_size=10, shuffle=True)\n",
        "test_loader = DataLoader(test_data, batch_size=10, shuffle=False)"
      ],
      "metadata": {
        "id": "sGzBX6wDVp0R"
      },
      "execution_count": null,
      "outputs": []
    },
    {
      "cell_type": "code",
      "source": [
        "for i, (X_train, y_train) in enumerate(train_data):\n",
        "    break"
      ],
      "metadata": {
        "id": "LSBZmgbUVr55"
      },
      "execution_count": null,
      "outputs": []
    },
    {
      "cell_type": "code",
      "source": [
        "x = X_train.view(1,1,28,28)  # 4D batch ( batch of 1 image)"
      ],
      "metadata": {
        "id": "q-ZDnTY5Vt_x"
      },
      "execution_count": null,
      "outputs": []
    },
    {
      "cell_type": "code",
      "source": [
        "class ConvolutionalNetwork(nn.Module):\n",
        "\n",
        "    def __init__(self):\n",
        "        super().__init__()\n",
        "        self.conv1 = nn.Conv2d(1,6,3,1)\n",
        "        self.conv2 = nn.Conv2d(6,16,3,1)\n",
        "        self.fc1 = nn.Linear(5*5*16,120)\n",
        "        self.fc2 = nn.Linear(120,84)\n",
        "        self.fc3 = nn.Linear(84,10)\n",
        "\n",
        "    def forward(self, X):\n",
        "        X = F.relu(self.conv1(X))\n",
        "        X = F.max_pool2d(X, 2, 2)\n",
        "        X = F.relu(self.conv2(X))\n",
        "        X = F.max_pool2d(X, 2, 2)\n",
        "        X = X.view(-1, 5*5*16)\n",
        "        X = F.relu(self.fc1(X))\n",
        "        X = F.relu(self.fc2(X))\n",
        "        X = self.fc3(X)\n",
        "        return F.log_softmax(X, dim=1)"
      ],
      "metadata": {
        "id": "eK8ZepPOVwiQ"
      },
      "execution_count": null,
      "outputs": []
    },
    {
      "cell_type": "code",
      "source": [
        "torch.manual_seed(42)\n",
        "model = ConvolutionalNetwork()\n",
        "model"
      ],
      "metadata": {
        "colab": {
          "base_uri": "https://localhost:8080/"
        },
        "id": "YRGCp2jgVy3Y",
        "outputId": "c875d245-35e2-4358-9b25-80d07bfeb6a6"
      },
      "execution_count": null,
      "outputs": [
        {
          "output_type": "execute_result",
          "data": {
            "text/plain": [
              "ConvolutionalNetwork(\n",
              "  (conv1): Conv2d(1, 6, kernel_size=(3, 3), stride=(1, 1))\n",
              "  (conv2): Conv2d(6, 16, kernel_size=(3, 3), stride=(1, 1))\n",
              "  (fc1): Linear(in_features=400, out_features=120, bias=True)\n",
              "  (fc2): Linear(in_features=120, out_features=84, bias=True)\n",
              "  (fc3): Linear(in_features=84, out_features=10, bias=True)\n",
              ")"
            ]
          },
          "metadata": {},
          "execution_count": 9
        }
      ]
    },
    {
      "cell_type": "markdown",
      "source": [
        "NAME : Vikash s\n",
        "\n",
        "REG NO : 212222240115"
      ],
      "metadata": {
        "id": "y3ZquLFtfHaU"
      }
    },
    {
      "cell_type": "code",
      "source": [
        "criterion = nn.CrossEntropyLoss()\n",
        "optimizer = torch.optim.Adam(model.parameters(), lr=0.001)"
      ],
      "metadata": {
        "id": "JQip2Se1V1tu"
      },
      "execution_count": null,
      "outputs": []
    },
    {
      "cell_type": "code",
      "source": [
        "import time\n",
        "start_time = time.time()\n",
        "\n",
        "# Variables ( Trackers)\n",
        "epochs = 5\n",
        "train_losses = []\n",
        "test_losses = []\n",
        "train_correct = []\n",
        "test_correct = []\n",
        "\n",
        "# for loop epochs\n",
        "for i in range(epochs):\n",
        "\n",
        "    trn_corr = 0\n",
        "    tst_corr = 0\n",
        "\n",
        "\n",
        "    # Run the training batches\n",
        "    for b, (X_train, y_train) in enumerate(train_loader):\n",
        "        b+=1\n",
        "\n",
        "        # Apply the model\n",
        "        y_pred = model(X_train)  # we not flatten X-train here\n",
        "        loss = criterion(y_pred, y_train)\n",
        "\n",
        "\n",
        "        predicted = torch.max(y_pred.data, 1)[1]\n",
        "        batch_corr = (predicted == y_train).sum()  # Trure 1 / False 0 sum()\n",
        "        trn_corr += batch_corr\n",
        "\n",
        "        # Update parameters\n",
        "        optimizer.zero_grad()\n",
        "        loss.backward()\n",
        "        optimizer.step()\n",
        "\n",
        "        # Print interim results\n",
        "        if b%600 == 0:\n",
        "            print(f'epoch: {i}  batch: {b} loss: {loss.item()}')\n",
        "\n",
        "    train_losses.append(loss)\n",
        "    train_correct.append(trn_corr)\n",
        "\n",
        "    # Run the testing batches\n",
        "    with torch.no_grad():\n",
        "        for b, (X_test, y_test) in enumerate(test_loader):\n",
        "\n",
        "            # Apply the model\n",
        "            y_val = model(X_test)\n",
        "\n",
        "            # Tally the number of correct predictions\n",
        "            predicted = torch.max(y_val.data, 1)[1]\n",
        "            tst_corr += (predicted == y_test).sum()\n",
        "\n",
        "    loss = criterion(y_val, y_test)\n",
        "    test_losses.append(loss)\n",
        "    test_correct.append(tst_corr)\n",
        "\n",
        "current_time = time.time()\n",
        "total = current_time - start_time\n",
        "print(f'Training took {total/60} minutes')"
      ],
      "metadata": {
        "colab": {
          "base_uri": "https://localhost:8080/"
        },
        "id": "M5WAZ0uTV4zD",
        "outputId": "6d5de705-89ca-4ca9-ca11-ae20eb0c4d06"
      },
      "execution_count": null,
      "outputs": [
        {
          "output_type": "stream",
          "name": "stdout",
          "text": [
            "epoch: 0  batch: 600 loss: 0.04055630788207054\n",
            "epoch: 0  batch: 1200 loss: 0.08253484964370728\n",
            "epoch: 0  batch: 1800 loss: 0.36422696709632874\n",
            "epoch: 0  batch: 2400 loss: 0.018563708290457726\n",
            "epoch: 0  batch: 3000 loss: 0.008377513848245144\n",
            "epoch: 0  batch: 3600 loss: 0.002423502504825592\n",
            "epoch: 0  batch: 4200 loss: 0.5999186038970947\n",
            "epoch: 0  batch: 4800 loss: 0.020963605493307114\n",
            "epoch: 0  batch: 5400 loss: 0.005595742259174585\n",
            "epoch: 0  batch: 6000 loss: 0.04970256984233856\n",
            "epoch: 1  batch: 600 loss: 0.010842357762157917\n",
            "epoch: 1  batch: 1200 loss: 0.045671623200178146\n",
            "epoch: 1  batch: 1800 loss: 0.0014050878817215562\n",
            "epoch: 1  batch: 2400 loss: 0.06672239303588867\n",
            "epoch: 1  batch: 3000 loss: 0.31000304222106934\n",
            "epoch: 1  batch: 3600 loss: 0.00015608184912707657\n",
            "epoch: 1  batch: 4200 loss: 0.0009690290316939354\n",
            "epoch: 1  batch: 4800 loss: 0.0011280770413577557\n",
            "epoch: 1  batch: 5400 loss: 0.0008054501377046108\n",
            "epoch: 1  batch: 6000 loss: 0.04125749319791794\n",
            "epoch: 2  batch: 600 loss: 0.0021145944483578205\n",
            "epoch: 2  batch: 1200 loss: 0.003909791354089975\n",
            "epoch: 2  batch: 1800 loss: 0.002483351854607463\n",
            "epoch: 2  batch: 2400 loss: 0.002242229413241148\n",
            "epoch: 2  batch: 3000 loss: 0.14334513247013092\n",
            "epoch: 2  batch: 3600 loss: 0.034599967300891876\n",
            "epoch: 2  batch: 4200 loss: 0.028883133083581924\n",
            "epoch: 2  batch: 4800 loss: 0.006127307657152414\n",
            "epoch: 2  batch: 5400 loss: 0.0002179949078708887\n",
            "epoch: 2  batch: 6000 loss: 0.000285611575236544\n",
            "epoch: 3  batch: 600 loss: 0.00023542491544503719\n",
            "epoch: 3  batch: 1200 loss: 0.0006502759642899036\n",
            "epoch: 3  batch: 1800 loss: 6.997828313615173e-05\n",
            "epoch: 3  batch: 2400 loss: 3.2255047699436545e-05\n",
            "epoch: 3  batch: 3000 loss: 0.0007299475255422294\n",
            "epoch: 3  batch: 3600 loss: 0.005373741965740919\n",
            "epoch: 3  batch: 4200 loss: 0.00020280522585380822\n",
            "epoch: 3  batch: 4800 loss: 0.02023724466562271\n",
            "epoch: 3  batch: 5400 loss: 0.0026429318822920322\n",
            "epoch: 3  batch: 6000 loss: 0.0062173111364245415\n",
            "epoch: 4  batch: 600 loss: 0.002825820120051503\n",
            "epoch: 4  batch: 1200 loss: 0.04890861362218857\n",
            "epoch: 4  batch: 1800 loss: 0.0001377762237098068\n",
            "epoch: 4  batch: 2400 loss: 2.9609716875711456e-05\n",
            "epoch: 4  batch: 3000 loss: 0.0021401906851679087\n",
            "epoch: 4  batch: 3600 loss: 0.02274867706000805\n",
            "epoch: 4  batch: 4200 loss: 0.00015061507292557508\n",
            "epoch: 4  batch: 4800 loss: 0.006375586148351431\n",
            "epoch: 4  batch: 5400 loss: 0.002882108325138688\n",
            "epoch: 4  batch: 6000 loss: 0.000796707347035408\n",
            "Training took 2.9309089303016664 minutes\n"
          ]
        }
      ]
    },
    {
      "cell_type": "code",
      "source": [
        "# Extract the data all at once, not in batches\n",
        "test_load_all = DataLoader(test_data, batch_size=10000, shuffle=False)"
      ],
      "metadata": {
        "id": "aIM2c5UYWtLe"
      },
      "execution_count": null,
      "outputs": []
    },
    {
      "cell_type": "code",
      "source": [
        "with torch.no_grad():\n",
        "    correct = 0\n",
        "    for X_test, y_test in test_load_all:\n",
        "        y_val = model(X_test)  # we don't flatten the data this time\n",
        "        predicted = torch.max(y_val,1)[1]\n",
        "        correct += (predicted == y_test).sum()"
      ],
      "metadata": {
        "id": "OBEPuhunWwKh"
      },
      "execution_count": null,
      "outputs": []
    },
    {
      "cell_type": "code",
      "source": [
        "correct.item()"
      ],
      "metadata": {
        "colab": {
          "base_uri": "https://localhost:8080/"
        },
        "id": "Gw6cBNTuWx5g",
        "outputId": "6ae083a7-6437-4c8a-c4a9-adee251d2bee"
      },
      "execution_count": null,
      "outputs": [
        {
          "output_type": "execute_result",
          "data": {
            "text/plain": [
              "9881"
            ]
          },
          "metadata": {},
          "execution_count": 14
        }
      ]
    },
    {
      "cell_type": "code",
      "source": [
        "correct.item()/len(test_data)"
      ],
      "metadata": {
        "colab": {
          "base_uri": "https://localhost:8080/"
        },
        "id": "lAQN8PxpW05n",
        "outputId": "d209777d-a4ca-4aba-ae4e-3578d65306e8"
      },
      "execution_count": null,
      "outputs": [
        {
          "output_type": "execute_result",
          "data": {
            "text/plain": [
              "0.9881"
            ]
          },
          "metadata": {},
          "execution_count": 15
        }
      ]
    },
    {
      "cell_type": "markdown",
      "source": [
        "NAME : Vikash s\n",
        "\n",
        "REG NO : 212222240115"
      ],
      "metadata": {
        "id": "FbWtaUB4fSx5"
      }
    },
    {
      "cell_type": "code",
      "source": [
        "# print a row of values for reference\n",
        "np.set_printoptions(formatter=dict(int=lambda x: f'{x:4}'))\n",
        "print(np.arange(10).reshape(1,10))\n",
        "print()\n",
        "\n",
        "# print the confusion matrix\n",
        "print(confusion_matrix(predicted.view(-1), y_test.view(-1)))"
      ],
      "metadata": {
        "colab": {
          "base_uri": "https://localhost:8080/"
        },
        "id": "hbPPlKJFW23o",
        "outputId": "a614121f-ed5a-4c62-8f76-f57a82563460"
      },
      "execution_count": null,
      "outputs": [
        {
          "output_type": "stream",
          "name": "stdout",
          "text": [
            "[[   0    1    2    3    4    5    6    7    8    9]]\n",
            "\n",
            "[[ 974    0    1    0    0    2    6    0    2    0]\n",
            " [   0 1134    2    0    0    0    2    3    0    3]\n",
            " [   2    0 1022    1    0    0    0    4    2    1]\n",
            " [   0    1    0 1005    0   19    0    0    1    0]\n",
            " [   0    0    1    0  976    0    2    0    2    5]\n",
            " [   0    0    0    2    0  852    2    0    0    2]\n",
            " [   2    0    0    0    1    3  944    0    0    0]\n",
            " [   1    0    6    0    0    1    0 1016    0    3]\n",
            " [   0    0    0    1    0    2    2    3  965    2]\n",
            " [   1    0    0    1    5   13    0    2    2  993]]\n"
          ]
        }
      ]
    },
    {
      "cell_type": "code",
      "source": [
        "# single image for test\n",
        "plt.imshow(test_data[2000][0].reshape(28,28))\n",
        "plt.show()"
      ],
      "metadata": {
        "colab": {
          "base_uri": "https://localhost:8080/",
          "height": 430
        },
        "id": "cWNSaUdcXNM2",
        "outputId": "e2f4ef3b-6f56-4879-913d-3711c5f6101c"
      },
      "execution_count": null,
      "outputs": [
        {
          "output_type": "display_data",
          "data": {
            "text/plain": [
              "<Figure size 640x480 with 1 Axes>"
            ],
            "image/png": "[encoded data removed]"
          },
          "metadata": {}
        }
      ]
    },
    {
      "cell_type": "code",
      "source": [
        "model.eval()\n",
        "with torch.no_grad():\n",
        "    new_prediction = model(test_data[2000][0].view(1,1,28,28))"
      ],
      "metadata": {
        "id": "S4J2lOJ3XPjt"
      },
      "execution_count": 19,
      "outputs": []
    },
    {
      "cell_type": "code",
      "source": [
        "new_prediction.argmax()"
      ],
      "metadata": {
        "id": "Ffqjh6rMXSTu",
        "colab": {
          "base_uri": "https://localhost:8080/"
        },
        "outputId": "1a5660c9-9240-4f11-e495-fbd83739e82d"
      },
      "execution_count": 20,
      "outputs": [
        {
          "output_type": "execute_result",
          "data": {
            "text/plain": [
              "tensor(6)"
            ]
          },
          "metadata": {},
          "execution_count": 20
        }
      ]
    },
    {
      "cell_type": "code",
      "source": [
        "test_data[2000][1]"
      ],
      "metadata": {
        "id": "x7GVTp4tXUv5",
        "colab": {
          "base_uri": "https://localhost:8080/"
        },
        "outputId": "dfc94e81-b5a3-4961-d9e3-56c6f73b8084"
      },
      "execution_count": 21,
      "outputs": [
        {
          "output_type": "execute_result",
          "data": {
            "text/plain": [
              "6"
            ]
          },
          "metadata": {},
          "execution_count": 21
        }
      ]
    },
    {
      "cell_type": "code",
      "source": [
        "torch.save(model.state_dict(), 'Lathikeshwaran_ex-3.pt')"
      ],
      "metadata": {
        "id": "uLjgN4DOXYVM"
      },
      "execution_count": 22,
      "outputs": []
    },
    {
      "cell_type": "code",
      "source": [
        "new_model = ConvolutionalNetwork() # Replace Model with ConvolutionalNetwork\n",
        "new_model.load_state_dict(torch.load('Lathikeshwaran_ex-3.pt'))\n",
        "new_model.eval()"
      ],
      "metadata": {
        "id": "lCY1xbWiXgx_",
        "colab": {
          "base_uri": "https://localhost:8080/"
        },
        "outputId": "cab74452-c980-41be-a8e6-509799e35726"
      },
      "execution_count": 23,
      "outputs": [
        {
          "output_type": "execute_result",
          "data": {
            "text/plain": [
              "ConvolutionalNetwork(\n",
              "  (conv1): Conv2d(1, 6, kernel_size=(3, 3), stride=(1, 1))\n",
              "  (conv2): Conv2d(6, 16, kernel_size=(3, 3), stride=(1, 1))\n",
              "  (fc1): Linear(in_features=400, out_features=120, bias=True)\n",
              "  (fc2): Linear(in_features=120, out_features=84, bias=True)\n",
              "  (fc3): Linear(in_features=84, out_features=10, bias=True)\n",
              ")"
            ]
          },
          "metadata": {},
          "execution_count": 23
        }
      ]
    }
  ]
}